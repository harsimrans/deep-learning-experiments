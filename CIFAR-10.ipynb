{
 "cells": [
  {
   "cell_type": "code",
   "execution_count": 1,
   "metadata": {},
   "outputs": [
    {
     "name": "stderr",
     "output_type": "stream",
     "text": [
      "Using TensorFlow backend.\n"
     ]
    }
   ],
   "source": [
    "%matplotlib inline\n",
    "import keras\n",
    "from keras.datasets import cifar10, cifar100\n",
    "from keras.preprocessing.image import ImageDataGenerator\n",
    "from keras.models import Sequential\n",
    "from keras.layers import Dense, Dropout, Activation, Flatten, LeakyReLU\n",
    "from keras.layers import Conv2D, MaxPooling2D\n",
    "from keras.layers.normalization import BatchNormalization\n",
    "from sklearn.model_selection import train_test_split\n",
    "from keras.callbacks import EarlyStopping\n",
    "from keras import regularizers\n",
    "from keras.models import load_model\n",
    "from keras import backend\n",
    "import numpy as np\n",
    "import matplotlib.pyplot as plt\n",
    "import time"
   ]
  },
  {
   "cell_type": "code",
   "execution_count": 2,
   "metadata": {
    "collapsed": true
   },
   "outputs": [],
   "source": [
    "# for CIFAR-10 there are 10 classes\n",
    "num_classes = 10"
   ]
  },
  {
   "cell_type": "code",
   "execution_count": 3,
   "metadata": {},
   "outputs": [
    {
     "name": "stdout",
     "output_type": "stream",
     "text": [
      "('x_train shape:', (50000, 32, 32, 3))\n",
      "(50000, 'train samples')\n",
      "(10000, 'test samples')\n"
     ]
    }
   ],
   "source": [
    "(x_train, y_train), (x_test, y_test) = cifar10.load_data()\n",
    "\n",
    "# normalize the data (simple)\n",
    "x_train = x_train.astype('float32')\n",
    "x_test = x_test.astype('float32')\n",
    "x_train /= 255.0\n",
    "x_test /= 255.0\n",
    "\n",
    "print('x_train shape:', x_train.shape)\n",
    "print(x_train.shape[0], 'train samples')\n",
    "print(x_test.shape[0], 'test samples')\n",
    "\n",
    "# Convert class vectors to binary class matrices.\n",
    "y_train = keras.utils.to_categorical(y_train, num_classes)\n",
    "y_test = keras.utils.to_categorical(y_test, num_classes)\n"
   ]
  },
  {
   "cell_type": "code",
   "execution_count": 4,
   "metadata": {
    "collapsed": true
   },
   "outputs": [],
   "source": [
    "# break the data into train and test data\n",
    "x_train, x_val, y_train, y_val = train_test_split(x_train, y_train, test_size=0.05, random_state=7)"
   ]
  },
  {
   "cell_type": "code",
   "execution_count": 5,
   "metadata": {},
   "outputs": [
    {
     "name": "stderr",
     "output_type": "stream",
     "text": [
      "/Users/harsimran/anaconda2/lib/python2.7/site-packages/ipykernel_launcher.py:46: UserWarning: Update your `Conv2D` call to the Keras 2 API: `Conv2D(64, (3, 3), padding=\"same\", strides=(2, 2), use_bias=True, input_shape=(32, 32, 3...)`\n",
      "/Users/harsimran/anaconda2/lib/python2.7/site-packages/ipykernel_launcher.py:50: UserWarning: Update your `Conv2D` call to the Keras 2 API: `Conv2D(64, (2, 2), padding=\"same\", use_bias=True)`\n",
      "/Users/harsimran/anaconda2/lib/python2.7/site-packages/ipykernel_launcher.py:53: UserWarning: Update your `Conv2D` call to the Keras 2 API: `Conv2D(48, (2, 2), padding=\"same\", use_bias=True)`\n",
      "/Users/harsimran/anaconda2/lib/python2.7/site-packages/ipykernel_launcher.py:56: UserWarning: Update your `Conv2D` call to the Keras 2 API: `Conv2D(48, (2, 2), padding=\"same\", use_bias=True)`\n",
      "/Users/harsimran/anaconda2/lib/python2.7/site-packages/ipykernel_launcher.py:59: UserWarning: Update your `Conv2D` call to the Keras 2 API: `Conv2D(64, (2, 2), padding=\"same\", use_bias=True)`\n",
      "/Users/harsimran/anaconda2/lib/python2.7/site-packages/ipykernel_launcher.py:69: UserWarning: Update your `Dense` call to the Keras 2 API: `Dense(10, activation=\"softmax\", use_bias=True)`\n"
     ]
    }
   ],
   "source": [
    "'''\n",
    "NOTE: Initially experimentation on my personal laptop. Isn't quite powerful. So epochs are less\n",
    "        which is good enough to understand what's going on.\n",
    "\n",
    "'''\n",
    "\n",
    "# MODEL 1\n",
    "# model = Sequential()\n",
    "# model.add(Conv2D(64, (2, 2), bias=True, strides=(2, 2), padding='same', input_shape=x_train.shape[1:]))\n",
    "# model.add(Activation('relu'))\n",
    "# model.add(Flatten())\n",
    "# model.add(Dense(10, bias=True, activation='softmax'))\n",
    "\n",
    "'''\n",
    "Setup: Model 1, data not normalized, RELU activation.\n",
    "Result: Model doing worse than random guessing. First fix this. we could\n",
    "    1. Change the activation function\n",
    "    2. Normalize the data (pick this, you should anyways normalize (this helps speed up the training process and\n",
    "        likely makes loss function less spread out)\n",
    "        \n",
    "    Normalizing the data fixes up the loss. It's as good as random guessing atleast. The models begins to learns.\n",
    "    \n",
    "    BUT after 20 epochs or so, you can clearly see that the validation accuracy starts getting flattened out.\n",
    "    Training further won't help anyways (would only lead to overfitting)\n",
    "'''\n",
    "\n",
    "\n",
    "# model = Sequential()\n",
    "# model.add(Conv2D(64, (2, 2), bias=True, strides=(2, 2), padding='same', input_shape=x_train.shape[1:]))\n",
    "# model.add(Activation('relu'))\n",
    "# model.add(Dropout(0.3))\n",
    "# model.add(Flatten())\n",
    "# model.add(Dense(10, bias=True, activation='softmax'))\n",
    "\n",
    "'''\n",
    "Setup: Model 2 = Model 1 + data normalized + Dropout\n",
    "Result: Model has high variance (the dev set accuracy flattens out still).\n",
    "    \n",
    "    Possible solns: get more data (not possible), regularization (not enough layers/model not deep enough to play here)\n",
    "    try different architecture (we'll go with this one.\n",
    "    \n",
    "    IMAGE data: so take advantage of max pool layers.\n",
    "'''\n",
    "\n",
    "# MODEL 3\n",
    "model = Sequential()\n",
    "model.add(Conv2D(64, (3, 3), bias=True, strides=(2,2), padding='same', input_shape=x_train.shape[1:]))\n",
    "model.add(Activation('relu'))\n",
    "model.add(MaxPooling2D(pool_size=(3, 3), strides=(2,2)))\n",
    "model.add(Conv2D(64, (2, 2), bias=True, padding='same'))\n",
    "model.add(Activation('relu'))\n",
    "model.add(Conv2D(48, (2, 2), bias=True, padding='same'))\n",
    "model.add(Activation('relu'))\n",
    "model.add(Conv2D(48, (2, 2), bias=True, padding='same'))\n",
    "model.add(Activation('relu'))\n",
    "model.add(Conv2D(64, (2, 2), bias=True, padding='same'))\n",
    "model.add(Activation('relu'))\n",
    "model.add(MaxPooling2D(pool_size=(3, 3), strides=(2,2)))\n",
    "model.add(Flatten())\n",
    "model.add(Dense(32, activation='relu'))\n",
    "model.add(Dense(32, activation='relu'))\n",
    "model.add(Dense(10, bias=True, activation='softmax'))\n",
    "\n",
    "'''\n",
    "Setup: Model 3 (increased layers)\n",
    "Result: Model has high variance but what is interesting to note is that without any regularization techniques you're\n",
    "        able to achieve accuracy of about 70% on the test set. This is way more than MODEL 2 (which uses dropout as\n",
    "        regularization technique.)\n",
    "        \n",
    "        Phew ! So we got the neural network started atleast !\n",
    "'''\n",
    "\n",
    "\n"
   ]
  },
  {
   "cell_type": "code",
   "execution_count": 6,
   "metadata": {
    "scrolled": false
   },
   "outputs": [
    {
     "name": "stdout",
     "output_type": "stream",
     "text": [
      "_________________________________________________________________\n",
      "Layer (type)                 Output Shape              Param #   \n",
      "=================================================================\n",
      "conv2d_1 (Conv2D)            (None, 16, 16, 64)        1792      \n",
      "_________________________________________________________________\n",
      "activation_1 (Activation)    (None, 16, 16, 64)        0         \n",
      "_________________________________________________________________\n",
      "max_pooling2d_1 (MaxPooling2 (None, 7, 7, 64)          0         \n",
      "_________________________________________________________________\n",
      "conv2d_2 (Conv2D)            (None, 7, 7, 64)          16448     \n",
      "_________________________________________________________________\n",
      "activation_2 (Activation)    (None, 7, 7, 64)          0         \n",
      "_________________________________________________________________\n",
      "conv2d_3 (Conv2D)            (None, 7, 7, 48)          12336     \n",
      "_________________________________________________________________\n",
      "activation_3 (Activation)    (None, 7, 7, 48)          0         \n",
      "_________________________________________________________________\n",
      "conv2d_4 (Conv2D)            (None, 7, 7, 48)          9264      \n",
      "_________________________________________________________________\n",
      "activation_4 (Activation)    (None, 7, 7, 48)          0         \n",
      "_________________________________________________________________\n",
      "conv2d_5 (Conv2D)            (None, 7, 7, 64)          12352     \n",
      "_________________________________________________________________\n",
      "activation_5 (Activation)    (None, 7, 7, 64)          0         \n",
      "_________________________________________________________________\n",
      "max_pooling2d_2 (MaxPooling2 (None, 3, 3, 64)          0         \n",
      "_________________________________________________________________\n",
      "flatten_1 (Flatten)          (None, 576)               0         \n",
      "_________________________________________________________________\n",
      "dense_1 (Dense)              (None, 32)                18464     \n",
      "_________________________________________________________________\n",
      "dense_2 (Dense)              (None, 32)                1056      \n",
      "_________________________________________________________________\n",
      "dense_3 (Dense)              (None, 10)                330       \n",
      "=================================================================\n",
      "Total params: 72,042\n",
      "Trainable params: 72,042\n",
      "Non-trainable params: 0\n",
      "_________________________________________________________________\n",
      "Train on 47500 samples, validate on 2500 samples\n",
      "Epoch 1/20\n",
      "47500/47500 [==============================] - 54s - loss: 1.7171 - acc: 0.3589 - val_loss: 1.4635 - val_acc: 0.4560\n",
      "Epoch 2/20\n",
      "47500/47500 [==============================] - 53s - loss: 1.3705 - acc: 0.5007 - val_loss: 1.3775 - val_acc: 0.5156\n",
      "Epoch 3/20\n",
      "47500/47500 [==============================] - 49s - loss: 1.2107 - acc: 0.5635 - val_loss: 1.3729 - val_acc: 0.5292\n",
      "Epoch 4/20\n",
      "47500/47500 [==============================] - 53s - loss: 1.1009 - acc: 0.6051 - val_loss: 1.2236 - val_acc: 0.5692\n",
      "Epoch 5/20\n",
      "47500/47500 [==============================] - 51s - loss: 1.0235 - acc: 0.6371 - val_loss: 1.0789 - val_acc: 0.6160\n",
      "Epoch 6/20\n",
      "47500/47500 [==============================] - 48s - loss: 0.9501 - acc: 0.6638 - val_loss: 1.0225 - val_acc: 0.6436\n",
      "Epoch 7/20\n",
      "47500/47500 [==============================] - 51s - loss: 0.8972 - acc: 0.6833 - val_loss: 0.9972 - val_acc: 0.6500\n",
      "Epoch 8/20\n",
      "47500/47500 [==============================] - 52s - loss: 0.8476 - acc: 0.7007 - val_loss: 0.9815 - val_acc: 0.6672\n",
      "Epoch 9/20\n",
      "47500/47500 [==============================] - 54s - loss: 0.8052 - acc: 0.7165 - val_loss: 0.9715 - val_acc: 0.6712\n",
      "Epoch 10/20\n",
      "47500/47500 [==============================] - 48s - loss: 0.7705 - acc: 0.7283 - val_loss: 0.9159 - val_acc: 0.6816\n",
      "Epoch 11/20\n",
      "47500/47500 [==============================] - 51s - loss: 0.7435 - acc: 0.7396 - val_loss: 0.9306 - val_acc: 0.6840\n",
      "Epoch 12/20\n",
      "47500/47500 [==============================] - 55s - loss: 0.7192 - acc: 0.7474 - val_loss: 0.9057 - val_acc: 0.6932\n",
      "Epoch 13/20\n",
      "47500/47500 [==============================] - 49s - loss: 0.6902 - acc: 0.7545 - val_loss: 0.9333 - val_acc: 0.6896\n",
      "Epoch 14/20\n",
      "47500/47500 [==============================] - 53s - loss: 0.6690 - acc: 0.7658 - val_loss: 0.9215 - val_acc: 0.6900\n",
      "Epoch 15/20\n",
      "47500/47500 [==============================] - 49s - loss: 0.6427 - acc: 0.7767 - val_loss: 0.8904 - val_acc: 0.7036\n",
      "Epoch 16/20\n",
      "47500/47500 [==============================] - 50s - loss: 0.6155 - acc: 0.7852 - val_loss: 1.0210 - val_acc: 0.6656\n",
      "Epoch 17/20\n",
      "47500/47500 [==============================] - 55s - loss: 0.6018 - acc: 0.7883 - val_loss: 0.9245 - val_acc: 0.6916\n",
      "Epoch 18/20\n",
      "47500/47500 [==============================] - 53s - loss: 0.5760 - acc: 0.7957 - val_loss: 0.9273 - val_acc: 0.7048\n",
      "Epoch 19/20\n",
      "47500/47500 [==============================] - 50s - loss: 0.5542 - acc: 0.8053 - val_loss: 0.9665 - val_acc: 0.6956\n",
      "Epoch 20/20\n",
      "47500/47500 [==============================] - 48s - loss: 0.5390 - acc: 0.8101 - val_loss: 0.9551 - val_acc: 0.6960\n",
      "Time taken:  1038.74749017 s\n",
      "['acc', 'loss', 'val_acc', 'val_loss']\n"
     ]
    },
    {
     "data": {
      "image/png": "[encoded data removed]",
      "text/plain": [
       "<matplotlib.figure.Figure at 0x10e718ed0>"
      ]
     },
     "metadata": {},
     "output_type": "display_data"
    },
    {
     "data": {
      "image/png": "[encoded data removed]",
      "text/plain": [
       "<matplotlib.figure.Figure at 0x1c259cfe50>"
      ]
     },
     "metadata": {},
     "output_type": "display_data"
    }
   ],
   "source": [
    "\n",
    "opt = keras.optimizers.Adam(lr=0.001, decay=1e-6)\n",
    "\n",
    "model.compile(loss='categorical_crossentropy',\n",
    "              optimizer=opt,\n",
    "              metrics=['accuracy'])\n",
    "\n",
    "model.summary()\n",
    "\n",
    "tic = time.time()\n",
    "\n",
    "#load previously saved model\n",
    "#model = load_model('./model_nn')\n",
    "\n",
    "history = model.fit(x_train, y_train,\n",
    "              batch_size=64,\n",
    "              epochs=20,\n",
    "              validation_data=(x_val, y_val),\n",
    "              shuffle=True, verbose=1, callbacks=[])\n",
    "\n",
    "toc = time.time()\n",
    "\n",
    "print \"----------------------------\"\n",
    "print \"Time taken: \", (toc-tic), \"s\"\n",
    "print \"----------------------------\"\n",
    "\n",
    "#save the model\n",
    "#model.save(\"./model_nn\")\n",
    "\n",
    "#########################\n",
    "#  SOME PLOTS\n",
    "#########################\n",
    "\n",
    "#  \"Accuracy\"\n",
    "plt.plot(history.history['acc'])\n",
    "plt.plot(history.history['val_acc'])\n",
    "plt.title('model accuracy')\n",
    "plt.ylabel('accuracy')\n",
    "plt.xlabel('epoch')\n",
    "plt.legend(['train', 'validation'], loc='upper left')\n",
    "#plt.savefig(\"accuracy_plot.png\")\n",
    "\n",
    "# \"Loss\"\n",
    "plt.figure()\n",
    "plt.plot(history.history['loss'])\n",
    "plt.plot(history.history['val_loss'])\n",
    "plt.title('model loss')\n",
    "plt.ylabel('loss')\n",
    "plt.xlabel('epoch')\n",
    "plt.legend(['train', 'validation'], loc='upper left')\n",
    "#plt.savefig(\"loss_plot.png\")\n",
    "plt.show()\n"
   ]
  },
  {
   "cell_type": "code",
   "execution_count": 7,
   "metadata": {},
   "outputs": [
    {
     "name": "stdout",
     "output_type": "stream",
     "text": [
      " 9984/10000 [============================>.] - ETA: 0s[0.91382192602157597, 0.70999999999999996]\n"
     ]
    }
   ],
   "source": [
    "evaluate = model.evaluate(x_test, y_test)\n",
    "print(evaluate)"
   ]
  }
 ],
 "metadata": {
  "kernelspec": {
   "display_name": "Python 2",
   "language": "python",
   "name": "python2"
  },
  "language_info": {
   "codemirror_mode": {
    "name": "ipython",
    "version": 2
   },
   "file_extension": ".py",
   "mimetype": "text/x-python",
   "name": "python",
   "nbconvert_exporter": "python",
   "pygments_lexer": "ipython2",
   "version": "2.7.13"
  }
 },
 "nbformat": 4,
 "nbformat_minor": 2
}
